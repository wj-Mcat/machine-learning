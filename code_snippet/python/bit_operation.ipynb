{
 "cells": [
  {
   "cell_type": "markdown",
   "source": [
    "# 如何将一个数组进行快速分组\n"
   ],
   "metadata": {
    "collapsed": false,
    "pycharm": {
     "name": "#%% md\n"
    }
   }
  },
  {
   "cell_type": "code",
   "execution_count": 14,
   "metadata": {
    "collapsed": true
   },
   "outputs": [
    {
     "name": "stdout",
     "output_type": "stream",
     "text": [
      "7\n",
      "7\n"
     ]
    }
   ],
   "source": [
    "import functools\n",
    "\n",
    "a = [4,1,4,6]\n",
    "\n",
    "ret = functools.reduce(lambda x, y: x^ y, a)\n",
    "print(ret)\n",
    "\n",
    "div = 1\n",
    "\n",
    "# 找到任意为1的位置\n",
    "while div & ret == 0:\n",
    "    div <<= 1\n",
    "\n",
    "print(ret)"
   ]
  },
  {
   "cell_type": "markdown",
   "source": [
    "代码说明：\n",
    "- 通过累计异或，可以直接得到多个不一样数字的异或值，比如【4，1，4，5】异或的结果就是4，最终为【1，5】的异或值\n",
    "-\n"
   ],
   "metadata": {
    "collapsed": false,
    "pycharm": {
     "name": "#%% md\n"
    }
   }
  }
 ],
 "metadata": {
  "kernelspec": {
   "display_name": "Python 3",
   "language": "python",
   "name": "python3"
  },
  "language_info": {
   "codemirror_mode": {
    "name": "ipython",
    "version": 2
   },
   "file_extension": ".py",
   "mimetype": "text/x-python",
   "name": "python",
   "nbconvert_exporter": "python",
   "pygments_lexer": "ipython2",
   "version": "2.7.6"
  }
 },
 "nbformat": 4,
 "nbformat_minor": 0
}